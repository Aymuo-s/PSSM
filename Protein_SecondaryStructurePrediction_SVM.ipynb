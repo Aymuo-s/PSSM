{
 "cells": [
  {
   "cell_type": "code",
   "execution_count": 20,
   "id": "ffb65d14",
   "metadata": {},
   "outputs": [],
   "source": [
    "import numpy as np"
   ]
  },
  {
   "cell_type": "code",
   "execution_count": 21,
   "id": "3327d6a3",
   "metadata": {},
   "outputs": [],
   "source": [
    "raw_primary = []\n",
    "raw_secondary = []\n",
    "\n",
    "with open('RS126.data.txt', 'r') as f:\n",
    "    for count, line in enumerate(f, start=1):\n",
    "        if count % 2 == 0:\n",
    "            raw_secondary.append(line.strip())\n",
    "        else:\n",
    "            raw_primary.append(line.strip())"
   ]
  },
  {
   "cell_type": "code",
   "execution_count": 22,
   "id": "518db977",
   "metadata": {},
   "outputs": [
    {
     "name": "stdout",
     "output_type": "stream",
     "text": [
      "126\n",
      "126\n"
     ]
    }
   ],
   "source": [
    "print (len(raw_primary))\n",
    "print (len(raw_secondary))"
   ]
  },
  {
   "cell_type": "code",
   "execution_count": 23,
   "id": "97bc7cbb",
   "metadata": {},
   "outputs": [
    {
     "name": "stdout",
     "output_type": "stream",
     "text": [
      "109   CCCCCECCCCCCCCECCHHHHHHHHHHHHHHHCCCCCHHHHHHHCCECCCCCCCCCCCCCEEEECCCEEEEEHHHHHHHHHHHHHHCCCCCCCCEEEECCCCCCECCCHHHHHHHHHHHHHHHHHHHHHHHHHHCCEEECCCCECHHHHHHHHCCCCCCEEEECCCCHHHHHHHCCEEEECCHHHHHHHHHCCCEEEECCEEEEEEEECCCCCCCCHHHHHHHHHHHHHHHHCCCEEEEEECHHHHHCCHHHHHHHHHHHHHHCCCEEECCCCHHHHHHHHHCCCHHHHHHHHCCHHHCCCCCCCCCCEEEEEECCCCCCECECCCCCCCCCEHHHHHHHHHHHCCCCEEEEEEEECCCECCHHHHHHHHHHHHHHHCCCCCCCCEEEEECCEHHHHHHHHHCCHHHHHHHCCEEECCCCCHHHCCCECCCCCCCCCCEEEEECCCCCCCCCCCCCCCEEEEECCHHHHHHHHHHCECCCCCCCCCEECCCCCEECCCCCCCCCCCCCCCCCCCCCEECCCCCCCCCCCCCCCCCCCECCCCCCCCCCCCCEEEEEEEEEECCCCEHHHHECCHHHHHHCECHHHHHHHECCCCEECCCCEECCEECCCCCCEECHHHHHHHHHCCCCCEEEECCCCECECCCCCHHHHHHHHCCEEEEEECCECHHHHHHHHHCCCEEEEECCHHHHHCCCCCCEEEEECHHHCCCCCCEEEEEECCCCCEEEEEEECCCCHHHHHHHHHCCHHHHHHHCCCC   RAKVAMSHFEPHEYIRYDLLEKNIDIVRKRLNRPLTLSEKIVYGHLDDPANQEIERGKTYLRLRPDRVAMQDATAQMAMLQFISSGLPKVAVPSTIHCDHLIEAQLGGEKDLRRAKDINQEVYNFLATAGAKYGVGFWRPGSGIIHQIILENYAYPGVLLIGTDSHTPNGGGLGGICIGVGGADAVDVMAGIPWELKCPKVIGVKLTGSLSGWTSPKDVILKVAGILTVKGGTGAIVEYHGPGVDSISCTGMATICNMGAEIGATTSVFPYNHRMKKYLSKTGRADIANLADEFKDHLVPDPGCHYDQVIEINLSELKPHINGPFTPDLAHPVAEVGSVAEKEGWPLDIRVGLIGSCTNSSYEDMGRSAAVAKQALAHGLKCKSQFTITPGSEQIRATIERDGYAQVLRDVGGIVLANACGPCIGQWDRKDIKKGEKNTIVTSYNRNFTGRNDANPETHAFVTSPEIVTALAIAGTLKFNPETDFLTGKDGKKFKLEAPDADELPRAEFDPGQDTYQHPPKDSSGQRVDVSPTSQRLQLLEPFDKWDGKDLEDLQILIKVKGKCTTDHISAAGPWLKFRGHLDNISNNLLIGAINIENRKANSVRNAVTQEFGPVPDTARYYKQHGIRWVVIGDENYGEGSSREHSALEPRHLGGRAIITKSFARIHETNLKKQGLLPLTFADPADYNKIHPVDKLTIQGLKDFAPGKPLKCIIKHPNGTQETILLNHTFNETQIEWFRAGSALNRMKELQQK\n"
     ]
    }
   ],
   "source": [
    "for i in range(len(raw_secondary)):\n",
    "    len1 = len(raw_secondary[i])\n",
    "    len2 = len(raw_primary[i])\n",
    "    \n",
    "    if(len1 != len2):\n",
    "        print(i,\" \", raw_secondary[i],\" \",raw_primary[i])"
   ]
  },
  {
   "cell_type": "code",
   "execution_count": 24,
   "id": "99906398",
   "metadata": {},
   "outputs": [
    {
     "name": "stdout",
     "output_type": "stream",
     "text": [
      "count secondary structure :  22594\n",
      "count primary structure :  22594\n"
     ]
    }
   ],
   "source": [
    "raw_primary.pop(109)\n",
    "raw_secondary.pop(109)\n",
    "count_sec = 0\n",
    "count_pri = 0\n",
    "for i in range(len(raw_secondary)):\n",
    "    len1 = len(raw_secondary[i])\n",
    "    len2 = len(raw_primary[i])\n",
    "    count_sec = count_sec + len1\n",
    "    count_pri = count_pri + len2\n",
    "    if(len1 != len2):\n",
    "        print(i,\" \", raw_secondary[i],\" \",raw_primary[i])\n",
    "        \n",
    "print(\"count secondary structure : \",count_sec)\n",
    "print(\"count primary structure : \",count_pri)"
   ]
  },
  {
   "cell_type": "code",
   "execution_count": 25,
   "id": "707939d4",
   "metadata": {},
   "outputs": [],
   "source": [
    "def split(sequence): \n",
    "    return [char for char in sequence]  "
   ]
  },
  {
   "cell_type": "code",
   "execution_count": 26,
   "id": "ce92c475",
   "metadata": {},
   "outputs": [],
   "source": [
    "split_primary = []\n",
    "split_secondary = []\n",
    "for i in range(len(raw_primary)):\n",
    "    split_primary.append(split(raw_primary[i]))\n",
    "    split_secondary.append(split(raw_secondary[i]))"
   ]
  },
  {
   "cell_type": "code",
   "execution_count": 27,
   "id": "b66dc069",
   "metadata": {},
   "outputs": [],
   "source": [
    "def orthogonal_pri(arg):\n",
    "    switch = {\n",
    "        'A' : np.array([1,0,0,0,0,0,0,0,0,0,0,0,0,0,0,0,0,0,0,0]),\n",
    "        'C' : np.array([0,1,0,0,0,0,0,0,0,0,0,0,0,0,0,0,0,0,0,0]),\n",
    "        'E' : np.array([0,0,1,0,0,0,0,0,0,0,0,0,0,0,0,0,0,0,0,0]),\n",
    "        'D' : np.array([0,0,0,1,0,0,0,0,0,0,0,0,0,0,0,0,0,0,0,0]),\n",
    "        'G' : np.array([0,0,0,0,1,0,0,0,0,0,0,0,0,0,0,0,0,0,0,0]),\n",
    "        'F' : np.array([0,0,0,0,0,1,0,0,0,0,0,0,0,0,0,0,0,0,0,0]),\n",
    "        'I' : np.array([0,0,0,0,0,0,1,0,0,0,0,0,0,0,0,0,0,0,0,0]),\n",
    "        'H' : np.array([0,0,0,0,0,0,0,1,0,0,0,0,0,0,0,0,0,0,0,0]),\n",
    "        'K' : np.array([0,0,0,0,0,0,0,0,1,0,0,0,0,0,0,0,0,0,0,0]),\n",
    "        'M' : np.array([0,0,0,0,0,0,0,0,0,1,0,0,0,0,0,0,0,0,0,0]),\n",
    "        'L' : np.array([0,0,0,0,0,0,0,0,0,0,1,0,0,0,0,0,0,0,0,0]),\n",
    "        'N' : np.array([0,0,0,0,0,0,0,0,0,0,0,1,0,0,0,0,0,0,0,0]),\n",
    "        'Q' : np.array([0,0,0,0,0,0,0,0,0,0,0,0,1,0,0,0,0,0,0,0]),\n",
    "        'P' : np.array([0,0,0,0,0,0,0,0,0,0,0,0,0,1,0,0,0,0,0,0]),\n",
    "        'S' : np.array([0,0,0,0,0,0,0,0,0,0,0,0,0,0,1,0,0,0,0,0]),\n",
    "        'R' : np.array([0,0,0,0,0,0,0,0,0,0,0,0,0,0,0,1,0,0,0,0]),\n",
    "        'T' : np.array([0,0,0,0,0,0,0,0,0,0,0,0,0,0,0,0,1,0,0,0]),\n",
    "        'W' : np.array([0,0,0,0,0,0,0,0,0,0,0,0,0,0,0,0,0,1,0,0]),\n",
    "        'V' : np.array([0,0,0,0,0,0,0,0,0,0,0,0,0,0,0,0,0,0,1,0]),\n",
    "        'Y' : np.array([0,0,0,0,0,0,0,0,0,0,0,0,0,0,0,0,0,0,0,1])\n",
    "    }\n",
    "    \n",
    "    return switch.get(arg)\n",
    "\n",
    "def orthogonal_sec(arg):\n",
    "    switch = {\n",
    "        'H' : 0,\n",
    "        'C' : 1,\n",
    "        'E' : 2\n",
    "    }\n",
    "    \n",
    "    return switch.get(arg)"
   ]
  },
  {
   "cell_type": "code",
   "execution_count": 28,
   "id": "b8722110",
   "metadata": {},
   "outputs": [],
   "source": [
    "for i in range(len(split_primary)):  \n",
    "    seq = split_primary[i]\n",
    "    for j in range(len(seq)):\n",
    "        seq[j] = orthogonal_pri(seq[j])"
   ]
  },
  {
   "cell_type": "code",
   "execution_count": 29,
   "id": "40f2b5e9",
   "metadata": {},
   "outputs": [],
   "source": [
    "for i in range(len(split_secondary)):  \n",
    "    seq2 = split_secondary[i]\n",
    "    for j in range(len(seq2)):\n",
    "        seq2[j] = orthogonal_sec(seq2[j])"
   ]
  },
  {
   "cell_type": "code",
   "execution_count": 30,
   "id": "8f87a4d4",
   "metadata": {},
   "outputs": [],
   "source": [
    "def target(lis):\n",
    "    Y = []\n",
    "    for i in range(len(lis)):\n",
    "        for j  in range(len(lis[i])):\n",
    "            Y.append(lis[i][j])\n",
    "    return Y"
   ]
  },
  {
   "cell_type": "code",
   "execution_count": 31,
   "id": "a7bc8bbe",
   "metadata": {},
   "outputs": [],
   "source": [
    "y_label = target(split_secondary)"
   ]
  },
  {
   "cell_type": "code",
   "execution_count": 32,
   "id": "0ad6fab8",
   "metadata": {},
   "outputs": [
    {
     "data": {
      "text/plain": [
       "22594"
      ]
     },
     "execution_count": 32,
     "metadata": {},
     "output_type": "execute_result"
    }
   ],
   "source": [
    "len(y_label)"
   ]
  },
  {
   "cell_type": "code",
   "execution_count": 33,
   "id": "d9f9c41e",
   "metadata": {},
   "outputs": [],
   "source": [
    "def window_padding_data(size, sequence):\n",
    "    num = int(size/2)\n",
    "    zeros = np.array([0, 0, 0, 0, 0, 0, 0, 0, 0, 0, 0, 0, 0, 0, 0, 0, 0, 0, 0, 0])\n",
    "    for i in range(len(sequence)):\n",
    "        for j in range(num):\n",
    "            sequence[i].append(zeros)\n",
    "            sequence[i].insert(0, zeros)\n",
    "            \n",
    "    X = []\n",
    "    temp = []\n",
    "\n",
    "    for k in range(len(sequence)):\n",
    "        for l in range(len(sequence[k])-(size-1)):\n",
    "            temp = sequence[k][l:l+size]\n",
    "            X.append(temp)\n",
    "            temp = []\n",
    "\n",
    "    return X"
   ]
  },
  {
   "cell_type": "code",
   "execution_count": 34,
   "id": "2e157aa6",
   "metadata": {},
   "outputs": [],
   "source": [
    "X = window_padding_data(15,split_primary)"
   ]
  },
  {
   "cell_type": "code",
   "execution_count": 35,
   "id": "cb4dde3e",
   "metadata": {},
   "outputs": [
    {
     "data": {
      "text/plain": [
       "22594"
      ]
     },
     "execution_count": 35,
     "metadata": {},
     "output_type": "execute_result"
    }
   ],
   "source": [
    "len(X)"
   ]
  },
  {
   "cell_type": "code",
   "execution_count": 36,
   "id": "afb88a81",
   "metadata": {},
   "outputs": [],
   "source": [
    "X = np.array(X)\n",
    "y_label = np.array(y_label)\n",
    "X = X.reshape(22594, 15*20)\n"
   ]
  },
  {
   "cell_type": "code",
   "execution_count": 37,
   "id": "e995f14a",
   "metadata": {},
   "outputs": [],
   "source": [
    "from sklearn.model_selection import train_test_split\n",
    "X_train, X_test, y_train, y_test = train_test_split(X, y_label, test_size = 0.20)"
   ]
  },
  {
   "cell_type": "code",
   "execution_count": 48,
   "id": "49ef8652",
   "metadata": {},
   "outputs": [],
   "source": [
    "from sklearn.svm import SVC\n",
    "from sklearn.metrics import classification_report"
   ]
  },
  {
   "cell_type": "code",
   "execution_count": 52,
   "id": "8eabaf8e",
   "metadata": {},
   "outputs": [
    {
     "data": {
      "text/plain": [
       "SVC(C=1, gamma=0.1)"
      ]
     },
     "execution_count": 52,
     "metadata": {},
     "output_type": "execute_result"
    }
   ],
   "source": [
    "svc = SVC(kernel='rbf', gamma = 0.1, C=1)\n",
    "svc.fit(X_train, y_train)\n"
   ]
  },
  {
   "cell_type": "code",
   "execution_count": 66,
   "id": "94cb5aa6",
   "metadata": {},
   "outputs": [],
   "source": [
    "from sklearn.metrics import accuracy_score"
   ]
  },
  {
   "cell_type": "code",
   "execution_count": 54,
   "id": "d4f045a0",
   "metadata": {},
   "outputs": [
    {
     "data": {
      "text/plain": [
       "0.6213764107103341"
      ]
     },
     "execution_count": 54,
     "metadata": {},
     "output_type": "execute_result"
    }
   ],
   "source": [
    "y_pred = svc.predict(X_test)\n",
    "accuracy_score(y_test, y_pred, normalize=True)"
   ]
  },
  {
   "cell_type": "code",
   "execution_count": 55,
   "id": "6b8ad74a",
   "metadata": {},
   "outputs": [
    {
     "name": "stdout",
     "output_type": "stream",
     "text": [
      "[1 1 0 0 0 1 1 0 1 0 0 2 0 1 2 1 1 0 1 1]\n",
      "[1 0 0 0 0 0 1 1 0 1 1 1 0 0 2 1 0 1 1 1]\n"
     ]
    }
   ],
   "source": [
    "print(y_test[0:20])\n",
    "print(y_pred[0:20])"
   ]
  },
  {
   "cell_type": "code",
   "execution_count": 64,
   "id": "8aeaeac2",
   "metadata": {},
   "outputs": [],
   "source": [
    "import matplotlib.pyplot as plt\n",
    "from sklearn.metrics import plot_confusion_matrix"
   ]
  },
  {
   "cell_type": "code",
   "execution_count": 56,
   "id": "13e22f43",
   "metadata": {},
   "outputs": [
    {
     "data": {
      "image/png": "[encoded data removed]",
      "text/plain": [
       "<Figure size 432x288 with 2 Axes>"
      ]
     },
     "metadata": {
      "needs_background": "light"
     },
     "output_type": "display_data"
    }
   ],
   "source": [
    "# Generate confusion matrix\n",
    "\n",
    "matrix = plot_confusion_matrix(svc, X_test, y_test,\n",
    "                                 cmap=plt.cm.Blues)\n",
    "plt.title('Confusion matrix for our classifier')\n",
    "plt.show(matrix)\n",
    "plt.show()"
   ]
  },
  {
   "cell_type": "code",
   "execution_count": 17,
   "id": "fb6b75c4",
   "metadata": {},
   "outputs": [],
   "source": [
    "#Check accuracy using mus musculus primary protein structure and match with results obtained from porter server"
   ]
  },
  {
   "cell_type": "code",
   "execution_count": 38,
   "id": "48a32600",
   "metadata": {},
   "outputs": [
    {
     "data": {
      "text/plain": [
       "'MGWAGDAGCTPRPPIRPRPASERRVIIVLFLGLLLDLLAFTLLLPLLPGLLERHGREQDPLYGSWQRGVDWFASAIGMPAEKRYNSVLFGGLIGSAFSLLQFFSAPLTGAASDYLGRRPVMMLSLTGLAISYAVWATSRSFKAFLASRVIGGISKGNVNLSTAIVADLGSPPTRSQGMAVIGVAFSLAFTLGPMLGAFLSVEMVPWISLLFAISDMLFIFCFLPETLPQEKRASSVTLGFHTAAHLLSPLALLRFAAVTHSQDPPAEHRLRNLRRLGLVYFLYLFLFSGLEYTLSFLAHQRFQFSSLQQGKMFFFIGLTMATIQGTYARRISPGKEAAAVTRAMLLLVPAFLLIGWAHSLPTLGLGLMLYSFAAAVVVPGLSTMVSSYGSPGQKGTIMGILRSLGALGRALGPVVAASVYWLTGAQVCFTVCSALFLLPFLLLWKLKHPAETSKEE'"
      ]
     },
     "execution_count": 38,
     "metadata": {},
     "output_type": "execute_result"
    }
   ],
   "source": [
    "st=[]\n",
    "st='MGWAGDAGCTPRPPIRPRPASERRVIIVLFLGLLLDLLAFTLLLPLLPGLLERHGREQDPLYGSWQRGVDWFASAIGMPAEKRYNSVLFGGLIGSAFSLLQFFSAPLTGAASDYLGRRPVMMLSLTGLAISYAVWATSRSFKAFLASRVIGGISKGNVNLSTAIVADLGSPPTRSQGMAVIGVAFSLAFTLGPMLGAFLSVEMVPWISLLFAISDMLFIFCFLPETLPQEKRASSVTLGFHTAAHLLSPLALLRFAAVTHSQDPPAEHRLRNLRRLGLVYFLYLFLFSGLEYTLSFLAHQRFQFSSLQQGKMFFFIGLTMATIQGTYARRISPGKEAAAVTRAMLLLVPAFLLIGWAHSLPTLGLGLMLYSFAAAVVVPGLSTMVSSYGSPGQKGTIMGILRSLGALGRALGPVVAASVYWLTGAQVCFTVCSALFLLPFLLLWKLKHPAETSKEE'\n",
    "st"
   ]
  },
  {
   "cell_type": "code",
   "execution_count": 39,
   "id": "82cf6151",
   "metadata": {},
   "outputs": [],
   "source": [
    "\n",
    "sec_st=[]\n",
    "\n",
    "for i in range(len(st)):\n",
    "    sec_st.append((st[i]))"
   ]
  },
  {
   "cell_type": "code",
   "execution_count": 40,
   "id": "c0536a82",
   "metadata": {},
   "outputs": [],
   "source": [
    "\n",
    "for i in range(len(sec_st)):  \n",
    "    sec_st[i]=orthogonal_pri(sec_st[i])"
   ]
  },
  {
   "cell_type": "code",
   "execution_count": 41,
   "id": "9b550d4c",
   "metadata": {},
   "outputs": [],
   "source": [
    "def window_pad(size, sequence):\n",
    "    num = int(size/2)\n",
    "    zeros = np.array([0, 0, 0, 0, 0, 0, 0, 0, 0, 0, 0, 0, 0, 0, 0, 0, 0, 0, 0, 0])\n",
    "    \n",
    "    for j in range(num):\n",
    "        sequence.append(zeros)\n",
    "        sequence.insert(0, zeros)\n",
    "            \n",
    "    X = []\n",
    "    temp = []\n",
    "\n",
    "    \n",
    "    for l in range(len(sequence)-(size-1)):\n",
    "        temp = sequence[l:l+size]\n",
    "        X.append(temp)\n",
    "        temp = []\n",
    "\n",
    "    return X"
   ]
  },
  {
   "cell_type": "code",
   "execution_count": 42,
   "id": "b25fff33",
   "metadata": {},
   "outputs": [],
   "source": [
    "X_sm = window_pad(15,sec_st)"
   ]
  },
  {
   "cell_type": "code",
   "execution_count": 43,
   "id": "bfcb8b48",
   "metadata": {},
   "outputs": [
    {
     "data": {
      "text/plain": [
       "456"
      ]
     },
     "execution_count": 43,
     "metadata": {},
     "output_type": "execute_result"
    }
   ],
   "source": [
    "len(X_sm)"
   ]
  },
  {
   "cell_type": "code",
   "execution_count": 50,
   "id": "962122f2",
   "metadata": {},
   "outputs": [],
   "source": [
    "X_sm = np.array(X_sm)\n",
    "X_sm = X_sm.reshape(456, 15*20)"
   ]
  },
  {
   "cell_type": "code",
   "execution_count": 53,
   "id": "8b2ce471",
   "metadata": {},
   "outputs": [],
   "source": [
    "y_pred = svc.predict(X_sm)"
   ]
  },
  {
   "cell_type": "code",
   "execution_count": 56,
   "id": "2ec2f2cf",
   "metadata": {},
   "outputs": [
    {
     "data": {
      "text/plain": [
       "456"
      ]
     },
     "execution_count": 56,
     "metadata": {},
     "output_type": "execute_result"
    }
   ],
   "source": [
    "\n",
    "len(y_pred)"
   ]
  },
  {
   "cell_type": "code",
   "execution_count": 57,
   "id": "ee5b4d0b",
   "metadata": {},
   "outputs": [],
   "source": [
    "y_sm=[]\n",
    "y_sm='CCCCCCCCCCCCCCCCCCCCCHHHHHHHHHHHHHHHHHHHHHHHHHHHHHHHHHCCCCHHHHHHHHHHHHHHHHHHHHHHHHCCCCHHHHHHHHHHHHHHHHHHHHHHHHHHHHCCCHHHHHHHHHHHHHHHHHHHHCCCHHHHHHHHHHHHHHHHHHHHHHHHHHHHCCHHHHHHHHHHHHHHHHHHHHHHHHHHHHHHHHHHHHHHHHHHHHHHHHHHHHCCCCCCCCCCCCCCCCHHHHHHHHHHHHHHHHHHHCCCCCCCCHHHCCCHHHHHHHHHHHHHHHHHHHHHHHHHHHHHHCCCCHHHHHHHHHHHHHHHHHHHHHHHHHHCCCCHHHHHHHHHHHHHHHHHHHHCCCCHHHHHHHHHHHHHHHHHHHHHHHHHHHHCCCHHHHHHHHHHHHHHHHHHHHHHHHHHHHHHHHCCCHHHHHHHHHHHHHHHHHHHHCCCCCCCCCCC'"
   ]
  },
  {
   "cell_type": "code",
   "execution_count": 58,
   "id": "a9bace00",
   "metadata": {},
   "outputs": [],
   "source": [
    "y_s = []\n",
    "for i in range(len(y_sm)):\n",
    "    y_s.append(split(y_sm[i]))"
   ]
  },
  {
   "cell_type": "code",
   "execution_count": 59,
   "id": "1c242886",
   "metadata": {},
   "outputs": [],
   "source": [
    "for i in range(len(y_s)):  \n",
    "    seq2 = y_s[i]\n",
    "    for j in range(len(seq2)):\n",
    "        seq2[j] = orthogonal_sec(seq2[j])"
   ]
  },
  {
   "cell_type": "code",
   "execution_count": 60,
   "id": "25d0900c",
   "metadata": {},
   "outputs": [],
   "source": [
    "y_l = target(y_s)\n"
   ]
  },
  {
   "cell_type": "code",
   "execution_count": 61,
   "id": "95ed9241",
   "metadata": {},
   "outputs": [],
   "source": [
    "y_l = np.array(y_l)"
   ]
  },
  {
   "cell_type": "code",
   "execution_count": 67,
   "id": "c6e60e55",
   "metadata": {},
   "outputs": [
    {
     "data": {
      "text/plain": [
       "0.5899122807017544"
      ]
     },
     "execution_count": 67,
     "metadata": {},
     "output_type": "execute_result"
    }
   ],
   "source": [
    "accuracy_score( y_pred,y_l, normalize=True)"
   ]
  },
  {
   "cell_type": "code",
   "execution_count": 68,
   "id": "420d135c",
   "metadata": {},
   "outputs": [
    {
     "name": "stdout",
     "output_type": "stream",
     "text": [
      "[1 1 1 1 1 1 1 1 1 1 1 1 1 1 1 1 1 1 1 1 1 0 0 0 0]\n",
      "[1 1 1 1 1 1 1 1 1 1 1 1 1 1 1 1 1 1 1 1 1 1 0 0 2]\n"
     ]
    }
   ],
   "source": [
    "print(y_l[0:25])\n",
    "print(y_pred[0:25])"
   ]
  },
  {
   "cell_type": "code",
   "execution_count": 69,
   "id": "ff908e29",
   "metadata": {},
   "outputs": [
    {
     "data": {
      "image/png": "[encoded data removed]",
      "text/plain": [
       "<Figure size 432x288 with 2 Axes>"
      ]
     },
     "metadata": {
      "needs_background": "light"
     },
     "output_type": "display_data"
    }
   ],
   "source": [
    "matrix = plot_confusion_matrix(svc, X_sm, y_l,cmap=plt.cm.Blues,\n",
    "                                 normalize='true')\n",
    "plt.title('Confusion matrix for our classifier')\n",
    "plt.show(matrix)\n",
    "plt.show()"
   ]
  },
  {
   "cell_type": "code",
   "execution_count": null,
   "id": "5b87c5b4",
   "metadata": {},
   "outputs": [],
   "source": []
  }
 ],
 "metadata": {
  "kernelspec": {
   "display_name": "Python 3",
   "language": "python",
   "name": "python3"
  },
  "language_info": {
   "codemirror_mode": {
    "name": "ipython",
    "version": 3
   },
   "file_extension": ".py",
   "mimetype": "text/x-python",
   "name": "python",
   "nbconvert_exporter": "python",
   "pygments_lexer": "ipython3",
   "version": "3.7.10"
  }
 },
 "nbformat": 4,
 "nbformat_minor": 5
}
